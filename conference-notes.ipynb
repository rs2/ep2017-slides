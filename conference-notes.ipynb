{
 "cells": [
  {
   "cell_type": "code",
   "execution_count": 1,
   "metadata": {
    "ExecuteTime": {
     "end_time": "2017-07-13T09:47:18.934888Z",
     "start_time": "2017-07-13T09:47:18.915367Z"
    },
    "slideshow": {
     "slide_type": "skip"
    }
   },
   "outputs": [
    {
     "data": {
      "text/html": [
       "<link rel=\"stylesheet\" type=\"text/css\" href=\"theme/solarized.css\">"
      ],
      "text/plain": [
       "<IPython.core.display.HTML object>"
      ]
     },
     "metadata": {},
     "output_type": "display_data"
    }
   ],
   "source": [
    "%%html\n",
    "<link rel=\"stylesheet\" type=\"text/css\" href=\"theme/solarized.css\">"
   ]
  },
  {
   "cell_type": "markdown",
   "metadata": {
    "ExecuteTime": {
     "end_time": "2017-07-10T08:01:51.407751Z",
     "start_time": "2017-07-10T08:01:51.397744Z"
    },
    "slideshow": {
     "slide_type": "slide"
    }
   },
   "source": [
    "# EuroPython 2017 Notes\n",
    "<img src=\"https://ep2017.europython.eu/static/p6/images/europython-2017-logo-white-bg.png\" width=\"50%\" style=\"float: left;\">"
   ]
  },
  {
   "cell_type": "markdown",
   "metadata": {
    "slideshow": {
     "slide_type": "slide"
    }
   },
   "source": [
    "## Monday July 10"
   ]
  },
  {
   "cell_type": "markdown",
   "metadata": {
    "slideshow": {
     "slide_type": "subslide"
    }
   },
   "source": [
    "### Keynote - Anfiteatro 2\n",
    "\n",
    "1. Monkey-patching `distutils` -> `setuptools` -> `pip`\n",
    "1. There are alternatives to building c-extensions\n",
    "  *  more `cffi`, less `libpython`"
   ]
  },
  {
   "cell_type": "markdown",
   "metadata": {
    "slideshow": {
     "slide_type": "subslide"
    }
   },
   "source": [
    "### Python Microservices\n",
    "\n",
    "1. Short functions are better than long functions\n",
    "1. https://github.com/miguelgrinberg/flack\n",
    "1. https://github.com/miguelgrinberg?tab=repositories&q=microflack\n",
    "1. `etcs` service registry\n",
    "  * Same `that kubernetes` uses\n",
    "1. Check `Aurora` on AWS\n",
    "1. All services are stateless\n",
    "  * use storage services\n",
    "1. https://speakerdeck.com/miguelgrinberg/python-microservices"
   ]
  },
  {
   "cell_type": "markdown",
   "metadata": {
    "collapsed": true,
    "slideshow": {
     "slide_type": "subslide"
    }
   },
   "source": [
    "### Building a full-stack web application with Python, NPM, Webpack and React\n",
    "\n",
    "1. Use `Webpack`\n",
    "1. https://codeburst.io/creating-a-full-stack-web-application-with-python-npm-webpack-and-react-8925800503d9\n",
    "1. https://github.com/angineering/FullStackTemplate"
   ]
  },
  {
   "cell_type": "markdown",
   "metadata": {
    "collapsed": true,
    "slideshow": {
     "slide_type": "subslide"
    }
   },
   "source": [
    "### Mocking services"
   ]
  },
  {
   "cell_type": "markdown",
   "metadata": {
    "collapsed": true,
    "slideshow": {
     "slide_type": "subslide"
    }
   },
   "source": [
    "### Debugging in PyCharm\n",
    "\n",
    "1. https://github.com/Elizaveta239/frame-eval"
   ]
  },
  {
   "cell_type": "markdown",
   "metadata": {
    "slideshow": {
     "slide_type": "subslide"
    }
   },
   "source": [
    "### REST Frameworks\n",
    "1. Django REST\n",
    "1. `restful`\n",
    "1. `falcon`"
   ]
  },
  {
   "cell_type": "markdown",
   "metadata": {
    "slideshow": {
     "slide_type": "subslide"
    }
   },
   "source": [
    "### Sanic\n",
    "1. Unix only\n",
    "1. Great for send/recv over `websockets`\n",
    "1. Server doesn't close the connection"
   ]
  },
  {
   "cell_type": "markdown",
   "metadata": {
    "slideshow": {
     "slide_type": "subslide"
    }
   },
   "source": [
    "### Lightning talks\n",
    "1. https://github.com/rorodata/firefly\n"
   ]
  },
  {
   "cell_type": "markdown",
   "metadata": {
    "ExecuteTime": {
     "end_time": "2017-07-11T07:16:04.215305Z",
     "start_time": "2017-07-11T07:16:04.210799Z"
    },
    "collapsed": true,
    "slideshow": {
     "slide_type": "slide"
    }
   },
   "source": [
    "## Tuesday July 11"
   ]
  },
  {
   "cell_type": "markdown",
   "metadata": {
    "slideshow": {
     "slide_type": "subslide"
    }
   },
   "source": [
    "### Data Visualization\n",
    "\n",
    "1. Really not exciting"
   ]
  },
  {
   "cell_type": "markdown",
   "metadata": {
    "slideshow": {
     "slide_type": "subslide"
    }
   },
   "source": [
    "### Serverless apps\n",
    "\n",
    "1. `chalice`\n",
    "1. `chalicelib`\n",
    "1. `@app.lambda_function()` bypassess the gateway\n",
    "1. Look up `@app.schedule()`\n",
    "1. Limit of 1,024 threads per function"
   ]
  },
  {
   "cell_type": "markdown",
   "metadata": {
    "slideshow": {
     "slide_type": "subslide"
    }
   },
   "source": [
    "### CyberSecurity.bootcamp()\n",
    "\n",
    "1. https://blog.nelhage.com/2011/03/exploiting-pickle/"
   ]
  },
  {
   "cell_type": "markdown",
   "metadata": {
    "ExecuteTime": {
     "end_time": "2017-07-11T10:19:53.024041Z",
     "start_time": "2017-07-11T10:19:53.002026Z"
    },
    "slideshow": {
     "slide_type": "subslide"
    }
   },
   "source": [
    "### Boundaries between client and server\n",
    "\n",
    "1. Learn ES6/ES7\n",
    "1. `WeakMap`, `WeakSet`"
   ]
  },
  {
   "cell_type": "markdown",
   "metadata": {
    "slideshow": {
     "slide_type": "subslide"
    }
   },
   "source": [
    "### Facebook build process\n",
    "\n",
    "1. Apache `thrift`\n",
    "1. `buck` for builds\n",
    "    * build to binaries"
   ]
  },
  {
   "cell_type": "markdown",
   "metadata": {
    "slideshow": {
     "slide_type": "subslide"
    }
   },
   "source": [
    "### Async IO and real-time web\n",
    "\n",
    "1. WSGI (2003)"
   ]
  },
  {
   "cell_type": "markdown",
   "metadata": {
    "slideshow": {
     "slide_type": "subslide"
    }
   },
   "source": [
    "### Dev Tools\n",
    "\n",
    "1. `tmux`\n",
    "1. `zsh`"
   ]
  },
  {
   "cell_type": "markdown",
   "metadata": {
    "slideshow": {
     "slide_type": "subslide"
    }
   },
   "source": [
    "### Lightning talks\n",
    "\n",
    "1. `dothub`"
   ]
  },
  {
   "cell_type": "markdown",
   "metadata": {
    "slideshow": {
     "slide_type": "slide"
    }
   },
   "source": [
    "## Wednesday July 12"
   ]
  },
  {
   "cell_type": "markdown",
   "metadata": {
    "slideshow": {
     "slide_type": "subslide"
    }
   },
   "source": [
    "### cffi\n",
    "\n",
    "1. Don't forget: cython is for performance, not c-extensions\n",
    "1. Don't need compilation with ctypes\n",
    "  1. in-line mode: import time\n",
    "  1. out-of-line mode: build time"
   ]
  },
  {
   "cell_type": "markdown",
   "metadata": {
    "ExecuteTime": {
     "end_time": "2017-07-12T10:13:53.408816Z",
     "start_time": "2017-07-12T10:13:53.384376Z"
    },
    "slideshow": {
     "slide_type": "subslide"
    }
   },
   "source": [
    "### `pandas` tricks\n",
    "\n",
    "1. Not insightful"
   ]
  },
  {
   "cell_type": "markdown",
   "metadata": {
    "slideshow": {
     "slide_type": "subslide"
    }
   },
   "source": [
    "### docker tutorial\n",
    "\n",
    "1. http://divio-cloud-developer-handbook.readthedocs.io/en/latest/introduction/index.html"
   ]
  },
  {
   "cell_type": "markdown",
   "metadata": {
    "slideshow": {
     "slide_type": "subslide"
    }
   },
   "source": [
    "### divio-tutorial\n",
    "\n",
    "1. http://divio-cloud-developer-handbook.readthedocs.io/en/latest/"
   ]
  },
  {
   "cell_type": "markdown",
   "metadata": {
    "slideshow": {
     "slide_type": "subslide"
    }
   },
   "source": [
    "### PyCharm\n",
    "\n",
    "1. Registry\n",
    "1. Dependency diagram"
   ]
  },
  {
   "cell_type": "markdown",
   "metadata": {
    "ExecuteTime": {
     "end_time": "2017-07-12T13:48:44.521070Z",
     "start_time": "2017-07-12T13:48:44.493701Z"
    },
    "slideshow": {
     "slide_type": "subslide"
    }
   },
   "source": [
    "### Storm\n",
    "1. Andrew Mortalenti youtube\n",
    "1. kafka\n",
    "1. msgpack\n"
   ]
  },
  {
   "cell_type": "markdown",
   "metadata": {
    "ExecuteTime": {
     "end_time": "2017-07-12T14:35:20.063122Z",
     "start_time": "2017-07-12T14:35:20.049112Z"
    },
    "slideshow": {
     "slide_type": "subslide"
    }
   },
   "source": [
    "### Winton\n",
    "\n",
    "1. Kafka\n",
    "    1. Runs on zookeeper\n",
    "    1. Multiple instances of kafka for resilience \n",
    "1. https://github.com/wintoncode"
   ]
  },
  {
   "cell_type": "markdown",
   "metadata": {
    "slideshow": {
     "slide_type": "slide"
    }
   },
   "source": [
    "## Thursday 13 July"
   ]
  },
  {
   "cell_type": "markdown",
   "metadata": {
    "slideshow": {
     "slide_type": "subslide"
    }
   },
   "source": [
    "### Git internals\n",
    "\n",
    "1. git is simply a kv-store\n",
    "1. Content is immutable\n",
    "1. ` echo foo | git hash-object --stdin`\n",
    "1. a tree can point to blobs and trees\n",
    "1. Commit is\n",
    "    1. snapshot of file system\n",
    "    1. and sha of the parent\n",
    "1. Branch is a file with the hash \n",
    "1. Merge is a commit with 2 parents\n",
    "1. Git gc unreachable content\n",
    "1. https://git-scm.com/book/en/v2\n"
   ]
  },
  {
   "cell_type": "markdown",
   "metadata": {
    "collapsed": true,
    "slideshow": {
     "slide_type": "subslide"
    }
   },
   "source": [
    "### Yelp talk\n",
    "\n",
    "https://github.com/sjaensch/faster_end_to_end_tests_talk"
   ]
  },
  {
   "cell_type": "markdown",
   "metadata": {
    "slideshow": {
     "slide_type": "slide"
    }
   },
   "source": [
    "## Friday 14 July"
   ]
  },
  {
   "cell_type": "markdown",
   "metadata": {
    "slideshow": {
     "slide_type": "subslide"
    }
   },
   "source": [
    "### Cython talk\n",
    "\n",
    "1. https://github.com/borgbackup/borg/blob/master/src/borg/compress.pyx "
   ]
  },
  {
   "cell_type": "markdown",
   "metadata": {
    "collapsed": true
   },
   "source": [
    "### DevOps\n",
    "\n",
    "* https://github.com/audreyr/cookiecutter\n",
    "* https://github.com/lenarother/draw-devops-against-humanity/\n",
    "* https://www.gitignore.io/\n",
    "\n"
   ]
  },
  {
   "cell_type": "code",
   "execution_count": null,
   "metadata": {
    "collapsed": true
   },
   "outputs": [],
   "source": []
  }
 ],
 "metadata": {
  "celltoolbar": "Slideshow",
  "kernelspec": {
   "display_name": "Python 3",
   "language": "python",
   "name": "python3"
  },
  "language_info": {
   "codemirror_mode": {
    "name": "ipython",
    "version": 3
   },
   "file_extension": ".py",
   "mimetype": "text/x-python",
   "name": "python",
   "nbconvert_exporter": "python",
   "pygments_lexer": "ipython3",
   "version": "3.6.1"
  }
 },
 "nbformat": 4,
 "nbformat_minor": 2
}

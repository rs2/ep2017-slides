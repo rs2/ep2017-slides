{
 "cells": [
  {
   "cell_type": "code",
   "execution_count": 39,
   "metadata": {
    "collapsed": true,
    "slideshow": {
     "slide_type": "skip"
    }
   },
   "outputs": [],
   "source": [
    "%reset -f"
   ]
  },
  {
   "cell_type": "code",
   "execution_count": 40,
   "metadata": {
    "collapsed": true,
    "slideshow": {
     "slide_type": "skip"
    }
   },
   "outputs": [],
   "source": [
    "import re\n",
    "\n",
    "import asyncio\n",
    "from functools import partial"
   ]
  },
  {
   "cell_type": "code",
   "execution_count": 41,
   "metadata": {
    "collapsed": true,
    "slideshow": {
     "slide_type": "skip"
    }
   },
   "outputs": [],
   "source": [
    "loop = asyncio.get_event_loop()"
   ]
  },
  {
   "cell_type": "code",
   "execution_count": 42,
   "metadata": {
    "slideshow": {
     "slide_type": "skip"
    }
   },
   "outputs": [
    {
     "data": {
      "text/html": [
       "<link rel=\"stylesheet\" type=\"text/css\" href=\"theme/solarized.css\">"
      ],
      "text/plain": [
       "<IPython.core.display.HTML object>"
      ]
     },
     "metadata": {},
     "output_type": "display_data"
    }
   ],
   "source": [
    "%%html\n",
    "<link rel=\"stylesheet\" type=\"text/css\" href=\"theme/solarized.css\">"
   ]
  },
  {
   "cell_type": "markdown",
   "metadata": {
    "slideshow": {
     "slide_type": "slide"
    }
   },
   "source": [
    "### ~~Winter~~ Lightning talk is coming..."
   ]
  },
  {
   "cell_type": "markdown",
   "metadata": {
    "slideshow": {
     "slide_type": "slide"
    }
   },
   "source": [
    "<img src=\"img/awaiting2.png\" width=\"45%\", style=\"margin-left: 23%\">"
   ]
  },
  {
   "cell_type": "markdown",
   "metadata": {
    "slideshow": {
     "slide_type": "subslide"
    }
   },
   "source": [
    "## Does this make you `awaitables?`"
   ]
  },
  {
   "cell_type": "markdown",
   "metadata": {
    "slideshow": {
     "slide_type": "fragment"
    }
   },
   "source": [
    "## PEP 492, 525"
   ]
  },
  {
   "cell_type": "markdown",
   "metadata": {
    "slideshow": {
     "slide_type": "slide"
    }
   },
   "source": [
    "### Here's the plan:"
   ]
  },
  {
   "cell_type": "code",
   "execution_count": 43,
   "metadata": {
    "slideshow": {
     "slide_type": "fragment"
    }
   },
   "outputs": [
    {
     "data": {
      "text/plain": [
       "['__aiter__', '__anext__', '__aenter__', '__aexit__']"
      ]
     },
     "execution_count": 43,
     "metadata": {},
     "output_type": "execute_result"
    }
   ],
   "source": [
    "list(map(\n",
    "    partial(re.sub, r'^(__)', r'\\1a'), \n",
    "    ['__iter__', '__next__', '__enter__', '__exit__']\n",
    "))"
   ]
  },
  {
   "cell_type": "markdown",
   "metadata": {
    "slideshow": {
     "slide_type": "slide"
    }
   },
   "source": [
    "### That's the way you do it\n",
    "\n",
    "_(You play the guitar on the MTV)_"
   ]
  },
  {
   "cell_type": "code",
   "execution_count": 45,
   "metadata": {
    "collapsed": true,
    "slideshow": {
     "slide_type": "subslide"
    }
   },
   "outputs": [],
   "source": [
    "async def my_async_gen() -> str:\n",
    "    \"\"\"Async generator :)\"\"\"\n",
    "    injected_value = None\n",
    "    \n",
    "    for value in '42,foo,bar'.split(','):\n",
    "        \n",
    "        injected_value = yield {'value': value, 'injected_value': injected_value}\n",
    "        await asyncio.sleep(1)"
   ]
  },
  {
   "cell_type": "code",
   "execution_count": 46,
   "metadata": {
    "collapsed": true,
    "slideshow": {
     "slide_type": "subslide"
    }
   },
   "outputs": [],
   "source": [
    "async def async_loop(gen):\n",
    "        # agen.__aiter__() returns an async iterator object\n",
    "        async for return_value in gen:\n",
    "            print(return_value['value'])\n",
    "            "
   ]
  },
  {
   "cell_type": "code",
   "execution_count": 47,
   "metadata": {
    "slideshow": {
     "slide_type": "fragment"
    }
   },
   "outputs": [
    {
     "name": "stdout",
     "output_type": "stream",
     "text": [
      "42\n",
      "foo\n",
      "bar\n"
     ]
    }
   ],
   "source": [
    "gen = my_async_gen()\n",
    "res = loop.run_until_complete(async_loop(gen))"
   ]
  },
  {
   "cell_type": "code",
   "execution_count": 48,
   "metadata": {
    "slideshow": {
     "slide_type": "subslide"
    }
   },
   "outputs": [
    {
     "name": "stdout",
     "output_type": "stream",
     "text": [
      "42, None\n",
      "foo, injected-baz\n",
      "bar, injected-qux\n"
     ]
    }
   ],
   "source": [
    "async def async_inject(gen):\n",
    "    # First time need to send None\n",
    "    for communicate_value in [None, 'injected-baz', 'injected-qux']:\n",
    "        \n",
    "        # agen.__anext__() returns an awaitable\n",
    "        return_value = await gen.asend(communicate_value)\n",
    "        \n",
    "        print('{value}, {injected_value}'.format(**return_value))\n",
    "\n",
    "# Rehydrate that generator\n",
    "gen = my_async_gen()\n",
    "res = loop.run_until_complete(async_inject(gen))"
   ]
  },
  {
   "cell_type": "code",
   "execution_count": 49,
   "metadata": {
    "collapsed": true,
    "slideshow": {
     "slide_type": "subslide"
    }
   },
   "outputs": [],
   "source": [
    "class AsyncContextManager:\n",
    "    async def log(self, msg):\n",
    "        print(msg)\n",
    "        asyncio.sleep(0.5)\n",
    "    \n",
    "    async def __aenter__(self):\n",
    "        await self.log('--- Entering context')\n",
    "\n",
    "    async def __aexit__(self, exc_type, exc, tb):\n",
    "        await self.log('--- Exiting context')"
   ]
  },
  {
   "cell_type": "code",
   "execution_count": 50,
   "metadata": {
    "slideshow": {
     "slide_type": "subslide"
    }
   },
   "outputs": [
    {
     "name": "stdout",
     "output_type": "stream",
     "text": [
      "--- Entering context\n",
      "42\n",
      "foo\n",
      "bar\n",
      "--- Exiting context\n"
     ]
    }
   ],
   "source": [
    "async def async_loop_wrapped(gen):\n",
    "    # aenter / aexit are async!\n",
    "    async with AsyncContextManager():\n",
    "        # agen.__aiter__() returns an async iterator object\n",
    "\n",
    "        async for return_value in gen:\n",
    "            print(return_value['value'])\n",
    "\n",
    "gen = my_async_gen()\n",
    "res = loop.run_until_complete(async_loop_wrapped(gen))"
   ]
  },
  {
   "cell_type": "code",
   "execution_count": null,
   "metadata": {
    "collapsed": true,
    "slideshow": {
     "slide_type": "skip"
    }
   },
   "outputs": [],
   "source": [
    "# loop.close()"
   ]
  },
  {
   "cell_type": "markdown",
   "metadata": {
    "slideshow": {
     "slide_type": "slide"
    }
   },
   "source": [
    "`pandriychenko@hbk.com`\n",
    "\n",
    "`rs2@github`\n",
    "\n",
    "<sub>presented on Windows</sub>☺"
   ]
  },
  {
   "cell_type": "markdown",
   "metadata": {
    "slideshow": {
     "slide_type": "slide"
    }
   },
   "source": [
    "<img src=\"img/hands-up2.png\">"
   ]
  },
  {
   "cell_type": "code",
   "execution_count": null,
   "metadata": {
    "collapsed": true,
    "slideshow": {
     "slide_type": "skip"
    }
   },
   "outputs": [],
   "source": []
  }
 ],
 "metadata": {
  "celltoolbar": "Slideshow",
  "kernelspec": {
   "display_name": "Python 3",
   "language": "python",
   "name": "python3"
  },
  "language_info": {
   "codemirror_mode": {
    "name": "ipython",
    "version": 3
   },
   "file_extension": ".py",
   "mimetype": "text/x-python",
   "name": "python",
   "nbconvert_exporter": "python",
   "pygments_lexer": "ipython3",
   "version": "3.6.1"
  }
 },
 "nbformat": 4,
 "nbformat_minor": 2
}

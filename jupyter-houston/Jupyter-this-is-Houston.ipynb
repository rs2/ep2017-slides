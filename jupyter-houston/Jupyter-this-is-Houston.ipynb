{
 "cells": [
  {
   "cell_type": "code",
   "execution_count": 1,
   "metadata": {
    "ExecuteTime": {
     "end_time": "2017-07-14T13:27:34.992398Z",
     "start_time": "2017-07-14T13:27:34.964373Z"
    },
    "slideshow": {
     "slide_type": "skip"
    }
   },
   "outputs": [
    {
     "data": {
      "text/html": [
       "<link rel=\"stylesheet\" type=\"text/css\" href=\"theme/solarized.css\">"
      ],
      "text/plain": [
       "<IPython.core.display.HTML object>"
      ]
     },
     "metadata": {},
     "output_type": "display_data"
    }
   ],
   "source": [
    "%%html\n",
    "<link rel=\"stylesheet\" type=\"text/css\" href=\"theme/solarized.css\">"
   ]
  },
  {
   "cell_type": "markdown",
   "metadata": {
    "slideshow": {
     "slide_type": "slide"
    }
   },
   "source": [
    "# Can we talk to Jupyter?\n",
    "<img src=\"img/rocket2.jpg\" style=\"width: 40%; position: relative; top: -10%; z-index: -1;\">\n",
    "<sub>Img (c) NASA</sub>"
   ]
  },
  {
   "cell_type": "markdown",
   "metadata": {
    "slideshow": {
     "slide_type": "subslide"
    }
   },
   "source": [
    "## Use Case\n",
    "* Same code (think: template)\n",
    "* Run with a number of different arguments"
   ]
  },
  {
   "cell_type": "markdown",
   "metadata": {
    "slideshow": {
     "slide_type": "subslide"
    }
   },
   "source": [
    "__`IPython.notebook.kernel.execute(window.location)`__\n",
    "\n",
    "* is on stackoverflow\n",
    "* works in notebooks\n",
    "* does __not__ work in Jupyter Dashboards\n",
    "* can live in `custom.js`"
   ]
  },
  {
   "cell_type": "markdown",
   "metadata": {
    "slideshow": {
     "slide_type": "subslide"
    }
   },
   "source": [
    "## Houston, we do __NOT__ have a problem!"
   ]
  },
  {
   "cell_type": "markdown",
   "metadata": {
    "slideshow": {
     "slide_type": "skip"
    }
   },
   "source": [
    "### Important imports"
   ]
  },
  {
   "cell_type": "code",
   "execution_count": 2,
   "metadata": {
    "ExecuteTime": {
     "end_time": "2017-07-14T13:27:35.002911Z",
     "start_time": "2017-07-14T13:27:34.996900Z"
    },
    "collapsed": true,
    "slideshow": {
     "slide_type": "skip"
    }
   },
   "outputs": [],
   "source": [
    "from ipykernel.comm import Comm\n",
    "from urllib.parse import urlparse, parse_qs"
   ]
  },
  {
   "cell_type": "markdown",
   "metadata": {
    "slideshow": {
     "slide_type": "skip"
    }
   },
   "source": [
    "### UI imports"
   ]
  },
  {
   "cell_type": "code",
   "execution_count": 3,
   "metadata": {
    "ExecuteTime": {
     "end_time": "2017-07-14T13:27:35.013918Z",
     "start_time": "2017-07-14T13:27:35.006912Z"
    },
    "collapsed": true,
    "slideshow": {
     "slide_type": "skip"
    }
   },
   "outputs": [],
   "source": [
    "from ipywidgets import widgets\n",
    "from IPython.display import display"
   ]
  },
  {
   "cell_type": "code",
   "execution_count": 4,
   "metadata": {
    "ExecuteTime": {
     "end_time": "2017-07-14T13:27:35.033930Z",
     "start_time": "2017-07-14T13:27:35.017922Z"
    },
    "collapsed": true,
    "slideshow": {
     "slide_type": "skip"
    }
   },
   "outputs": [],
   "source": [
    "def parse_url(url):\n",
    "    \"\"\"Return arguments from the url\"\"\"\n",
    "    q = urlparse(url).query\n",
    "    return {k.lower(): v[0] for k, v in parse_qs(q).items()}\n",
    "\n",
    "def set_widgets(items, selected):\n",
    "    \"\"\"Set widget state\"\"\"\n",
    "    select_widget.options = items\n",
    "    select_widget.value = list(set(items) & set(selected))"
   ]
  },
  {
   "cell_type": "markdown",
   "metadata": {
    "slideshow": {
     "slide_type": "skip"
    }
   },
   "source": [
    "### Create UI components using `ipywidgets`"
   ]
  },
  {
   "cell_type": "code",
   "execution_count": 5,
   "metadata": {
    "ExecuteTime": {
     "end_time": "2017-07-14T13:27:35.080962Z",
     "start_time": "2017-07-14T13:27:35.037933Z"
    },
    "slideshow": {
     "slide_type": "skip"
    }
   },
   "outputs": [
    {
     "data": {
      "application/vnd.jupyter.widget-view+json": {
       "model_id": "d065ffff647f43019cfe3a548f587376"
      }
     },
     "metadata": {},
     "output_type": "display_data"
    }
   ],
   "source": [
    "select_widget = widgets.SelectMultiple()\n",
    "display(widgets.HBox([widgets.HTML('<h3>Clap your hands!</h3>'), select_widget]))"
   ]
  },
  {
   "cell_type": "code",
   "execution_count": 6,
   "metadata": {
    "ExecuteTime": {
     "end_time": "2017-07-14T13:27:35.097481Z",
     "start_time": "2017-07-14T13:27:35.085972Z"
    },
    "slideshow": {
     "slide_type": "slide"
    }
   },
   "outputs": [
    {
     "data": {
      "application/javascript": [
       "Jupyter.notebook.kernel.comm_manager.register_target(\n",
       "    'foobar42_channel',\n",
       "    (comm, msg) => comm.send(window.location.href)\n",
       ");"
      ],
      "text/plain": [
       "<IPython.core.display.Javascript object>"
      ]
     },
     "metadata": {},
     "output_type": "display_data"
    }
   ],
   "source": [
    "%%js\n",
    "Jupyter.notebook.kernel.comm_manager.register_target(\n",
    "    'foobar42_channel',\n",
    "    (comm, msg) => comm.send(window.location.href)\n",
    ");"
   ]
  },
  {
   "cell_type": "code",
   "execution_count": 7,
   "metadata": {
    "ExecuteTime": {
     "end_time": "2017-07-14T13:27:35.123002Z",
     "start_time": "2017-07-14T13:27:35.100987Z"
    },
    "collapsed": true,
    "slideshow": {
     "slide_type": "skip"
    }
   },
   "outputs": [],
   "source": [
    "comm = Comm(target_name='foobar42_channel')\n",
    "\n",
    "@comm.on_msg\n",
    "def handle_msg(msg):\n",
    "    url = msg['content']['data']\n",
    "    args = parse_url(url)\n",
    "    items = args.get('items', '').split(',')\n",
    "    selected = args.get('selected', '').split(',')\n",
    "    set_widgets(items, selected)\n",
    "    1 / 0"
   ]
  },
  {
   "cell_type": "markdown",
   "metadata": {
    "slideshow": {
     "slide_type": "slide"
    }
   },
   "source": [
    "http://bit.ly/talk-to-jupyter"
   ]
  }
 ],
 "metadata": {
  "celltoolbar": "Slideshow",
  "kernelspec": {
   "display_name": "Python 3",
   "language": "python",
   "name": "python3"
  },
  "language_info": {
   "codemirror_mode": {
    "name": "ipython",
    "version": 3
   },
   "file_extension": ".py",
   "mimetype": "text/x-python",
   "name": "python",
   "nbconvert_exporter": "python",
   "pygments_lexer": "ipython3",
   "version": "3.6.1"
  }
 },
 "nbformat": 4,
 "nbformat_minor": 2
}
